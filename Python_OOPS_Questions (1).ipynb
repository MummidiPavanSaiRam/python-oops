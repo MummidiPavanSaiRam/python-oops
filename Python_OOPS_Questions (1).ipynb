{
  "cells": [
    {
      "cell_type": "markdown",
      "metadata": {
        "id": "1rJHHy_NQtzk"
      },
      "source": [
        "Python OOPs Questions\n",
        "\n",
        "1. What is Object-Oriented Programming (OOP).\n",
        "- Object-Oriented Programming (OOP) is a programming style based on the concept of “objects”, which contain both data (attributes) and behavior (methods/functions).\n",
        "\n",
        "2. What is a class in OOP ?\n",
        "- A class in Object-Oriented Programming (OOP) is a blueprint or template for creating objects. It defines: Attributes (data) , Methods (functions that operate on data)\n",
        "\n",
        "3. What is an object in OOP?\n",
        "- An object in Object-Oriented Programming (OOP) is a real-world instance created from a class.\n",
        "\n",
        "4. What is the difference between abstraction and encapsulation.\n",
        "-   Abstraction means hiding the internal logic and showing only the important details to the user.\n",
        "It focuses on what an object does, not how it does it.\n",
        "Encapsulation means hiding the internal data of an object and only allowing access through controlled methods.\n",
        "It protects the data and keeps it safe from outside interference.\n",
        "\n",
        "5. What are dunder methods in Python.\n",
        "- dunder methods double underscore methods front and back.\n",
        "\n",
        "6. Explain the concept of inheritance in OOP?\n",
        "- Inheritance is the concept of inherting objects from parent class to child class\n",
        "\n",
        "7. What is polymorphism in OOP?\n",
        "-  Polymorphism means \"many forms\".\n",
        "In Object-Oriented Programming, it refers to the ability of different classes to provide different implementations for the same method name.\n",
        "\n",
        "8. How is encapsulation achieved in Python.\n",
        "- Encapsulation is the concept of hiding internal data and only allowing access through methods.\n",
        "It helps protect sensitive information from being changed directly.\n",
        "\n",
        "9. What is a constructor in Python.\n",
        "- A constructor in Python is a special method used to initialize objects when they are created.\n",
        "\n",
        "10. In Python, the constructor method is named: __init__() (a dunder method).\n",
        "-  In Python, the constructor method is:\n",
        "__init__()\n",
        "It’s called automatically when an object is created.\n",
        "It is a dunder method (short for “double underscore” method).\n",
        "Used to initialize the object with default or passed values.\n",
        "\n",
        "11.  What are class and static methods in Python.\n",
        "- Declared using: @classmethod\n",
        "Takes cls (class itself) as the first argument\n",
        "Declared using: @staticmethod\n",
        "Does not take self or cls\n",
        "\n",
        "12. What is method overloading in Python.\n",
        "- Method Overloading means defining multiple methods with the same name but different number or types of arguments.\n",
        "\n",
        "13. What is method overriding in OOP?\n",
        "-  Method Overriding means:\n",
        "A child class provides a new version of a method that already exists in its parent class.\n",
        "\n",
        "14. What is a property decorator in Python?\n",
        "-  The @property decorator in Python allows you to define a method that can be accessed like an attribute — without using parentheses ().\n",
        "\n",
        "15. Why is polymorphism important in OOP?\n",
        "- Polymorphism is important in Object-Oriented Programming because it allows the same method or operation to behave differently depending on the object that calls it.\n",
        "\n",
        "16.  What is an abstract class in Python?\n",
        "- An abstract class in Python is a class that cannot be directly instantiated — it only serves as a template for other classes.\n",
        "\n",
        "17. What are the advantages of OOP.\n",
        "- OOP makes code more organized by grouping related data and functions into classes.\n",
        "\n",
        "It allows code reuse through inheritance, so you don’t have to write the same code again.\n",
        "\n",
        "Encapsulation protects data by hiding it and only allowing access through methods.\n",
        "\n",
        "Polymorphism lets the same function work in different ways for different objects.\n",
        "\n",
        "18. What is the difference between a class variable and an instance variable.\n",
        "-  A class variable is shared by all objects of a class, and it has the same value for every object.\n",
        "\n",
        "An instance variable is unique to each object, and its value can be different for each one.\n",
        "\n",
        "\n",
        "19. What is multiple inheritance in Python?\n",
        "- Multiple inheritance in Python means that a child class can inherit from more than one parent class.\n",
        "\n",
        "This allows the child class to access properties and methods from all parent classes.\n",
        "\n",
        "20. Explain the purpose of ‘’__str__’ and ‘__repr__’ ‘ methods in Python.\n",
        "- __str__() is used to return a user-friendly or readable string when you print an object.\n",
        "\n",
        "__repr__() is used to return a developer-friendly string that shows the official representation of the object (often used for debugging).\n",
        "\n",
        "21. What is the significance of the ‘super()’ function in Python.\n",
        "- The super() function lets the child class access and reuse methods and constructors from its parent class, without writing the parent class name.\n",
        "\n",
        "22. What is the significance of the __del__ method in Python.\n",
        "- The __del__ method is a special method in Python called a destructor.\n",
        "It is automatically called when an object is about to be destroyed or deleted.\n",
        "\n",
        "23. What is the difference between @staticmethod and @classmethod in Python.\n",
        "- A @staticmethod is a method that does not access the class or instance — it's like a regular function inside a class.\n",
        "\n",
        "A @classmethod is a method that takes the class (cls) as the first argument and can access or modify class variables.\n",
        "\n",
        "24. How does polymorphism work in Python with inheritance.\n",
        "- Polymorphism with inheritance means that a method in the child class can override the method in the parent class, and the correct version is automatically called based on the object's class.\n",
        "\n",
        "25. What is method chaining in Python OOP.\n",
        "- Method chaining allows calling multiple methods in a single line by making each method return the same object (self).\n",
        "\n",
        "26. What is the purpose of the __call__ method in Python?\n",
        "- The __call__ method is a special (dunder) method in Python that allows an object to be called like a function."
      ]
    },
    {
      "cell_type": "code",
      "execution_count": null,
      "metadata": {
        "colab": {
          "base_uri": "https://localhost:8080/"
        },
        "id": "40NdmTwz768f",
        "outputId": "1b88595b-d00c-4a65-b3b8-6211dbb483af"
      },
      "outputs": [
        {
          "name": "stdout",
          "output_type": "stream",
          "text": [
            "Make some sounds\n"
          ]
        }
      ],
      "source": [
        " #practical questions\n",
        "#1. Create a parent class Animal with a method speak() that prints a generic message. Create a child class Dog that overrides the speak() method to print \"Bark!\".\n",
        "\n",
        "class animal:\n",
        "  def speak1(self):\n",
        "    print(\"Make some sounds\")\n",
        "class dog(animal):\n",
        "  def speak(self):\n",
        "    print(\"Make more sounds 1 \")\n",
        "\n",
        "j=dog()\n",
        "\n",
        "j.speak1()\n",
        "\n"
      ]
    },
    {
      "cell_type": "code",
      "execution_count": 5,
      "metadata": {
        "colab": {
          "base_uri": "https://localhost:8080/"
        },
        "id": "CbzuFnK38Yab",
        "outputId": "e617efe2-5daa-4f16-af6f-06b26e68c35e"
      },
      "outputs": [
        {
          "output_type": "stream",
          "name": "stdout",
          "text": [
            "Area of Circle: 78.53981633974483\n",
            "Area of Rectangle: 24\n"
          ]
        }
      ],
      "source": [
        "#2.Write a program to create an abstract class Shape with a method area(). Derive classes Circle and Rectangle from it and implement the area() method in both.\n",
        "\n",
        "from abc import ABC, abstractmethod\n",
        "import math\n",
        "\n",
        "class Shape(ABC):\n",
        "    @abstractmethod\n",
        "    def area(self):\n",
        "        pass\n",
        "\n",
        "class Circle(Shape):\n",
        "    def area(self, radius):\n",
        "        return math.pi * radius ** 2\n",
        "\n",
        "class Rectangle(Shape):\n",
        "    def area(self, length, width):\n",
        "        return length * width\n",
        "\n",
        "\n",
        "circle = Circle()\n",
        "rectangle = Rectangle()\n",
        "\n",
        "\n",
        "print(\"Area of Circle:\", circle.area(5))\n",
        "print(\"Area of Rectangle:\", rectangle.area(4,6))"
      ]
    },
    {
      "cell_type": "code",
      "execution_count": null,
      "metadata": {
        "colab": {
          "base_uri": "https://localhost:8080/"
        },
        "id": "bqH-QtuJuRCo",
        "outputId": "3c7b9948-7c8e-4119-9657-6b1cc700c562"
      },
      "outputs": [
        {
          "name": "stdout",
          "output_type": "stream",
          "text": [
            "I am a Car\n",
            "I am a Vehicle\n",
            "I am an Electric Car\n",
            "Battery: 100 kWh\n"
          ]
        }
      ],
      "source": [
        "#3. Implement a multi-level inheritance scenario where a class Vehicle has an attribute type. Derive a class Car and further derive a class ElectricCar that adds a battery attribute.\n",
        "class Vehicle:\n",
        "    def vehicle_info(self):\n",
        "        print(\"I am a Vehicle\")\n",
        "\n",
        "class Car(Vehicle):\n",
        "    def car_info(self):\n",
        "        print(\"I am a Car\")\n",
        "\n",
        "class ElectricCar(Car):\n",
        "    def __init__(self):\n",
        "        self.battery = \"100 kWh\"\n",
        "\n",
        "    def electric_info(self):\n",
        "        print(\"I am an Electric Car\")\n",
        "        print(\"Battery:\", self.battery)\n",
        "\n",
        "class1=ElectricCar()\n",
        "class1.car_info()\n",
        "class1.vehicle_info()\n",
        "class1.electric_info()"
      ]
    },
    {
      "cell_type": "code",
      "execution_count": null,
      "metadata": {
        "colab": {
          "base_uri": "https://localhost:8080/"
        },
        "id": "MiKUF5OJmSja",
        "outputId": "7f22843a-be64-418e-9d4d-5a975d38c20d"
      },
      "outputs": [
        {
          "name": "stdout",
          "output_type": "stream",
          "text": [
            "They can fly but cannot swim\n",
            "cannot fly but swim\n"
          ]
        }
      ],
      "source": [
        "#4. Demonstrate polymorphism by creating a base class Bird with a method fly(). Create two derived classes Sparrow and Penguin that override the fly() method.\n",
        "\n",
        "class bird():\n",
        "  def fly(self):\n",
        "    print(\"birds fly\")\n",
        "\n",
        "class sparrow(bird):\n",
        "  def fly(self):\n",
        "    print(\"They can fly but cannot swim\")\n",
        "\n",
        "class penguin(bird):\n",
        "  def fly(self):\n",
        "    print(\"cannot fly but swim\")\n",
        "\n",
        "\n",
        "flying1 = sparrow()\n",
        "flying2 = penguin()\n",
        "\n",
        "flying1.fly()\n",
        "flying2.fly()\n"
      ]
    },
    {
      "cell_type": "code",
      "execution_count": null,
      "metadata": {
        "id": "Ey6-YkX2umsQ"
      },
      "outputs": [],
      "source": [
        "#5. Write a program to demonstrate encapsulation by creating a class BankAccount with private attributes balance and methods to deposit, withdraw, and check balance.\n",
        "class bankaccount:\n",
        "  def __init__(self):\n",
        "    self.__balance=0\n",
        "\n",
        "  def deposit(self,amount):\n",
        "    if amount > 0:\n",
        "      self.__balance+=amount\n",
        "      print(f\"deposit: ${amount}\")\n",
        "    else:\n",
        "      print(\"insuffient balance\")\n",
        "\n",
        "\n",
        "  def withdraw(self,amount):\n",
        "    if amount <=self.__balance:\n",
        "      self.__balance -= amount\n",
        "      print(f\"withdraw: ${amount}\")\n",
        "    else:\n",
        "      print(\"insuffient balance\")\n",
        "\n",
        "  def checkbalance(self):\n",
        "    print(f\"current Balance: ${self.__balance}\")\n",
        "\n"
      ]
    },
    {
      "cell_type": "code",
      "execution_count": null,
      "metadata": {
        "colab": {
          "base_uri": "https://localhost:8080/"
        },
        "id": "3IiYEwllumun",
        "outputId": "c070130f-2672-4aee-b764-0051119d1701"
      },
      "outputs": [
        {
          "name": "stdout",
          "output_type": "stream",
          "text": [
            "withdraw: $1000\n",
            "current Balance: $1000\n"
          ]
        }
      ],
      "source": [
        "account = bankaccount()\n",
        "\n",
        "account.deposit(1000)\n",
        "account.checkbalance()"
      ]
    },
    {
      "cell_type": "code",
      "execution_count": null,
      "metadata": {
        "colab": {
          "base_uri": "https://localhost:8080/"
        },
        "id": "-nVV7eYSumxS",
        "outputId": "8a888e4a-5044-4699-e81b-276814c4f6d5"
      },
      "outputs": [
        {
          "name": "stdout",
          "output_type": "stream",
          "text": [
            "playing the guitar \n",
            "playing the paino \n"
          ]
        }
      ],
      "source": [
        " #6. Demonstrate runtime polymorphism using a method play() in a base class Instrument. Derive classes Guitar and Piano that implement their own version of play().\n",
        "class instrument:\n",
        "  def play(self):\n",
        "    print(\"playinstrument\")\n",
        "class guitar(instrument):\n",
        "  def play(self):\n",
        "    print(\"playing the guitar \")\n",
        "class paino(instrument):\n",
        "  def play(self):\n",
        "    print(\"playing the paino \")\n",
        "\n",
        "\n",
        "playing1= guitar()\n",
        "playing2= paino()\n",
        "\n",
        "playing1.play()\n",
        "playing2.play()"
      ]
    },
    {
      "cell_type": "code",
      "execution_count": null,
      "metadata": {
        "colab": {
          "base_uri": "https://localhost:8080/"
        },
        "id": "IjpyIy6num0W",
        "outputId": "5876a13c-4df5-4620-e2b4-f6c62e0a0a1a"
      },
      "outputs": [
        {
          "name": "stdout",
          "output_type": "stream",
          "text": [
            "Addition: 15\n",
            "Subtraction: 5\n"
          ]
        }
      ],
      "source": [
        "#7. Create a class MathOperations with a class method add_numbers() to add two numbers and a static method subtract_numbers() to subtract two numbers.\n",
        "\n",
        "class MathOperations:\n",
        "    @classmethod\n",
        "    def add_numbers(cls, a, b):\n",
        "        return a + b\n",
        "\n",
        "    @staticmethod\n",
        "    def subtract_numbers(a, b):\n",
        "        return a - b\n",
        "\n",
        "result_add = MathOperations.add_numbers(10, 5)\n",
        "result_subtract = MathOperations.subtract_numbers(10, 5)\n",
        "\n",
        "print(\"Addition:\", result_add)\n",
        "print(\"Subtraction:\", result_subtract)\n",
        "\n"
      ]
    },
    {
      "cell_type": "code",
      "execution_count": null,
      "metadata": {
        "colab": {
          "base_uri": "https://localhost:8080/"
        },
        "id": "VIQIDl7lum34",
        "outputId": "ead64929-9ca7-4057-d8ea-d4aa37a7f828"
      },
      "outputs": [
        {
          "name": "stdout",
          "output_type": "stream",
          "text": [
            "total no. of persons: 2\n"
          ]
        }
      ],
      "source": [
        "#8. Implement a class Person with a class method to count the total number of persons created.\n",
        "\n",
        "class person:\n",
        "  count = 0\n",
        "  def __init__(self,name):\n",
        "    self.name = name\n",
        "    person.count+=1\n",
        "\n",
        "  @classmethod\n",
        "  def total_persons(a):\n",
        "    return a.count\n",
        "\n",
        "p1=person(\"pavan\")\n",
        "p2=person(\"alice\")\n",
        "\n",
        "print(\"total no. of persons:\", person.total_persons())\n",
        "\n",
        "\n"
      ]
    },
    {
      "cell_type": "code",
      "execution_count": null,
      "metadata": {
        "colab": {
          "base_uri": "https://localhost:8080/"
        },
        "id": "tylZgUXJF_Js",
        "outputId": "82ebef03-cae9-4159-d6ab-1ebf8fec619a"
      },
      "outputs": [
        {
          "data": {
            "text/plain": [
              "1"
            ]
          },
          "execution_count": 16,
          "metadata": {},
          "output_type": "execute_result"
        }
      ],
      "source": [
        "\n",
        "class persons1:\n",
        "  a=0\n",
        "  def persons1_info(self,Name):\n",
        "    persons1.a+=1\n",
        "\n",
        "    return persons1.a\n",
        "\n",
        "obj1=persons1()\n",
        "obj1.persons1_info(\"pavan\")"
      ]
    },
    {
      "cell_type": "code",
      "execution_count": null,
      "metadata": {
        "colab": {
          "base_uri": "https://localhost:8080/"
        },
        "id": "MLP9bCkIkNpV",
        "outputId": "eb5124d3-4f94-440d-a4ad-a3ee23618518"
      },
      "outputs": [
        {
          "name": "stdout",
          "output_type": "stream",
          "text": [
            "3/5\n"
          ]
        }
      ],
      "source": [
        "#9. Write a class Fraction with attributes numerator and denominator. Override the str method to display the fraction as \"numerator/denominator\".\n",
        "class fraction:\n",
        "  def __init__(self,numerator,denominator):\n",
        "    self.numerator=numerator\n",
        "    self.denominator=denominator\n",
        "\n",
        "  def __str__(self):\n",
        "    return f\"{self.numerator}/{self.denominator}\"\n",
        "\n",
        "obj1=fraction(3,5)\n",
        "print(obj1)"
      ]
    },
    {
      "cell_type": "code",
      "execution_count": 7,
      "metadata": {
        "id": "WKLu9QxnkNvX",
        "colab": {
          "base_uri": "https://localhost:8080/"
        },
        "outputId": "166b7c0d-da97-48f7-a6fb-bec9b02c65f7"
      },
      "outputs": [
        {
          "output_type": "stream",
          "name": "stdout",
          "text": [
            "vector 1: (5,4)\n",
            "vector 2: (4,5)\n",
            "sum: (9,9)\n"
          ]
        }
      ],
      "source": [
        "#10. Demonstrate operator overloading by creating a class Vector and overriding the add method to add two vectors.\n",
        "class vector:\n",
        "  def __init__(self,x,y):\n",
        "    self.x=x\n",
        "    self.y=y\n",
        "\n",
        "  def __add__(self,others):\n",
        "    return vector(self.x+others.x, self.y+others.y)\n",
        "\n",
        "  def __str__(self):\n",
        "    return f\"({self.x},{self.y})\"\n",
        "\n",
        "v1= vector(5,4)\n",
        "v2= vector(4,5)\n",
        "\n",
        "v3 =v1+v2\n",
        "\n",
        "print(\"vector 1:\",v1)\n",
        "print(\"vector 2:\",v2)\n",
        "print(\"sum:\",v3)\n",
        "\n"
      ]
    },
    {
      "cell_type": "code",
      "execution_count": 14,
      "metadata": {
        "id": "rF-0cwzekNxC",
        "colab": {
          "base_uri": "https://localhost:8080/"
        },
        "outputId": "1c1bd991-bee3-45b7-ad22-c3a1aa7f79b9"
      },
      "outputs": [
        {
          "output_type": "stream",
          "name": "stdout",
          "text": [
            "Hello, my name is pavan and I am 26 years old.\n"
          ]
        }
      ],
      "source": [
        "#11. Create a class Person with attributes name and age. Add a method greet() that prints \"Hello, my name is {name} and I am {age} years old.\"\n",
        "class person:\n",
        "  def __init__(self,name,age):\n",
        "    self.name=name\n",
        "    self.age=age\n",
        "\n",
        "  def greet(self,):\n",
        "      print(f\"Hello, my name is {self.name} and I am {self.age} years old.\")\n",
        "\n",
        "s1=person(\"pavan\",26)\n",
        "\n",
        "s1.greet()\n",
        "\n"
      ]
    },
    {
      "cell_type": "code",
      "execution_count": 16,
      "metadata": {
        "id": "SQxJDFdukNy7",
        "colab": {
          "base_uri": "https://localhost:8080/"
        },
        "outputId": "68a88b1c-0406-4ad0-9fba-37e9969154de"
      },
      "outputs": [
        {
          "output_type": "stream",
          "name": "stdout",
          "text": [
            "This the average of pavan is : 100.0\n"
          ]
        }
      ],
      "source": [
        "#12. Implement a class Student with attributes name and grades. Create a method average_grade() to compute the average of the grades.\n",
        "class student:\n",
        "  def __init__(self,name,*grade):\n",
        "    self.name=name\n",
        "    self.grade=grade\n",
        "\n",
        "  def average_grade(self):\n",
        "    if len(self.grade) == 0:\n",
        "      return 0\n",
        "    return sum(self.grade)/len(self.grade)\n",
        "\n",
        "s1=student(\"pavan\",80,100,120)\n",
        "\n",
        "print(f\"This the average of {s1.name} is :\",s1.average_grade())\n",
        "\n",
        "\n"
      ]
    },
    {
      "cell_type": "code",
      "execution_count": 21,
      "metadata": {
        "id": "n1bgzuwikN1A",
        "colab": {
          "base_uri": "https://localhost:8080/"
        },
        "outputId": "67f48671-91da-4449-fd6d-6653beb11b0e"
      },
      "outputs": [
        {
          "output_type": "stream",
          "name": "stdout",
          "text": [
            "Print the area of rectangle: 30\n"
          ]
        }
      ],
      "source": [
        "#13. Create a class Rectangle with methods set_dimensions() to set the dimensions and area() to calculate the area.\n",
        "class rectangle:\n",
        "  def set_dimensions(self,length,width):\n",
        "    self.length=length\n",
        "    self.width= width\n",
        "\n",
        "  def area(self):\n",
        "    result = self.length*self.width\n",
        "    return result\n",
        "\n",
        "s1=rectangle()\n",
        "s1.set_dimensions(5,6)\n",
        "\n",
        "print(f\"Print the area of rectangle:\",s1.area())"
      ]
    },
    {
      "cell_type": "code",
      "execution_count": 26,
      "metadata": {
        "id": "os9_UHohf6t-",
        "colab": {
          "base_uri": "https://localhost:8080/"
        },
        "outputId": "c9f3e1d2-7fb0-483d-c9c6-6d678e8bc582"
      },
      "outputs": [
        {
          "output_type": "stream",
          "name": "stdout",
          "text": [
            "Salary given according to working hours 10 with hourly rate 100 so total is: 1000\n",
            "bonus given according to working hours 5 with hourly rate 50 and bonus hours 250\n",
            "the total amount with  1000 and total bonus is 250 is 1250\n"
          ]
        }
      ],
      "source": [
        "#14. Create a class Employee with a method calculate_salary() that computes the salary based on hours worked and hourly rate. Create a derived class Manager that adds a bonus to the salary.\n",
        "class employee:\n",
        "  def calculate_salary(self,hours_worked,hourly_rate):\n",
        "    self.hours_worked = hours_worked\n",
        "    self.hourly_rate = hourly_rate\n",
        "    self.worked=self.hours_worked*self.hourly_rate\n",
        "    return self.worked\n",
        "\n",
        "class manager(employee):\n",
        "  def bonus(self,bonus_hours,bonus_amount):\n",
        "    self.bonus_hours = bonus_hours\n",
        "    self.bonus_amount=bonus_amount\n",
        "    self.bonus_total= self.bonus_hours*self.bonus_amount\n",
        "\n",
        "    return self.bonus_total\n",
        "\n",
        "a1=manager()\n",
        "a1.calculate_salary(10,100)\n",
        "a1.bonus(5,50)\n",
        "\n",
        "total= a1.worked+a1.bonus_total\n",
        "\n",
        "print(f\"Salary given according to working hours {a1.hours_worked} with hourly rate {a1.hourly_rate} so total is: {a1.worked}\")\n",
        "print(f\"bonus given according to working hours {a1.bonus_hours} with hourly rate {a1.bonus_amount} and bonus hours {a1.bonus_total}\")\n",
        "print(f\"the total amount with  {a1.worked} and total bonus is {a1.bonus_total} is {total}\")\n",
        "\n"
      ]
    },
    {
      "cell_type": "code",
      "source": [
        "#15. Create a class Product with attributes name, price, and quantity. Implement a method total_price() that calculates the total price of the product.\n",
        "class product:\n",
        "  def __init__(self,name,price,quantity):\n",
        "    self.name=name\n",
        "    self.price=price\n",
        "    self.quantity=quantity\n",
        "\n",
        "  def total_price(self):\n",
        "    self.total=self.price*self.quantity\n",
        "    return (f\"The total bill for {self.name} is {self.total}\")\n",
        "\n",
        "s1=product(\"pavan\",100,2)\n",
        "print(s1.total_price())\n"
      ],
      "metadata": {
        "colab": {
          "base_uri": "https://localhost:8080/"
        },
        "id": "qINfQqqhIy_e",
        "outputId": "d1f1c58b-4273-4476-a425-f56f3f7d59af"
      },
      "execution_count": 31,
      "outputs": [
        {
          "output_type": "stream",
          "name": "stdout",
          "text": [
            "The total bill for pavan is 200\n"
          ]
        }
      ]
    },
    {
      "cell_type": "code",
      "source": [
        "#16. Create a class Animal with an abstract method sound(). Create two derived classes Cow and Sheep that implement the sound() method.\n",
        "from abc import ABC,abstractmethod\n",
        "\n",
        "class animal(ABC):\n",
        "  @abstractmethod\n",
        "  def sound(self):\n",
        "    print(\"the sound should be derived\")\n",
        "class cow(animal):\n",
        "  def sound(self):\n",
        "    print(\"The sound for cow is maa\")\n",
        "class sheep(animal):\n",
        "  def sound(self):\n",
        "    print(\"The sound for sheep is meee\")\n",
        "\n",
        "q1=sheep()\n",
        "q1.sound()\n",
        "\n",
        "\n",
        "#without abstract method we can also write the program but the differnce is, if we do not enter sound method then abstarctmethod will remind that we need to enter\n"
      ],
      "metadata": {
        "colab": {
          "base_uri": "https://localhost:8080/"
        },
        "id": "Z73qTYVYIzHQ",
        "outputId": "cd67d62b-707e-488d-aa4a-45a963eadb34"
      },
      "execution_count": 32,
      "outputs": [
        {
          "output_type": "stream",
          "name": "stdout",
          "text": [
            "The sound for sheep is meee\n"
          ]
        }
      ]
    },
    {
      "cell_type": "code",
      "source": [
        "#17. Create a class Book with attributes title, author, and year_published. Add a method get_book_info() that returns a formatted string with the book's details.\n",
        "class book:\n",
        "  def __init__(self,title, author,year_published):\n",
        "    self.title=title\n",
        "    self.author=author\n",
        "    self.year_published=year_published\n",
        "  def get_book_info(self):\n",
        "    return f\"Title:{self.title}\\nAuthor:{self.author}\\nyear_published:{self.year_published}\"\n",
        "\n",
        "l1=book(\"Wings of fire\",\"A.P.J. Abdul Kalam\",2005)\n",
        "print(l1.get_book_info())\n"
      ],
      "metadata": {
        "colab": {
          "base_uri": "https://localhost:8080/"
        },
        "id": "h19kR4CmIzJo",
        "outputId": "713aaf77-a8c7-49c9-f0a2-5f8bd3b27d4c"
      },
      "execution_count": 39,
      "outputs": [
        {
          "output_type": "stream",
          "name": "stdout",
          "text": [
            "Title:Wings of fire\n",
            "Author:A.P.J. Abdul Kalam\n",
            "year_published:2005\n"
          ]
        }
      ]
    },
    {
      "cell_type": "code",
      "source": [
        "#18. Create a class House with attributes address and price. Create a derived class Mansion that adds an attribute number_of_rooms.\n",
        "class House:\n",
        "    def __init__(self, address, price):\n",
        "        self.address = address\n",
        "        self.price = price\n",
        "\n",
        "class Mansion(House):  # Mansion is derived from House\n",
        "    def __init__(self, address, price, number_of_rooms):\n",
        "        super().__init__(address, price)       # Call parent constructor\n",
        "        self.number_of_rooms = number_of_rooms\n",
        "\n",
        "    def get_info(self):\n",
        "        return f\"Address: {self.address}\\nPrice: ₹{self.price}\\nRooms: {self.number_of_rooms}\"\n",
        "\n",
        "# Create an object of Mansion\n",
        "m1 = Mansion(\"Banjara Hills, Hyderabad\", 50000000, 10)\n",
        "\n",
        "# Print the mansion details\n",
        "print(m1.get_info())\n",
        "\n",
        "\n",
        "\n"
      ],
      "metadata": {
        "id": "QL4ujXlkIzL6"
      },
      "execution_count": null,
      "outputs": []
    },
    {
      "cell_type": "code",
      "source": [],
      "metadata": {
        "id": "sMyS4KyAIzOb"
      },
      "execution_count": null,
      "outputs": []
    },
    {
      "cell_type": "code",
      "source": [],
      "metadata": {
        "id": "vMtA12gWIzQj"
      },
      "execution_count": null,
      "outputs": []
    },
    {
      "cell_type": "code",
      "source": [],
      "metadata": {
        "id": "uUXq8I6cIzT4"
      },
      "execution_count": null,
      "outputs": []
    },
    {
      "cell_type": "code",
      "source": [
        "\n",
        "\n",
        "\n",
        "\n",
        "\n",
        "\n",
        "\n"
      ],
      "metadata": {
        "id": "4RUj1_jsBQSb"
      },
      "execution_count": null,
      "outputs": []
    }
  ],
  "metadata": {
    "colab": {
      "provenance": []
    },
    "kernelspec": {
      "display_name": "Python 3",
      "name": "python3"
    },
    "language_info": {
      "name": "python"
    }
  },
  "nbformat": 4,
  "nbformat_minor": 0
}